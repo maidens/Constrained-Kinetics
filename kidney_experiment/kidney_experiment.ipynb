{
 "cells": [
  {
   "cell_type": "code",
   "execution_count": 1,
   "metadata": {
    "collapsed": false
   },
   "outputs": [],
   "source": [
    "import numpy\n",
    "import matplotlib.pyplot as plt\n",
    "import scipy.optimize as optimization\n",
    "from math import sqrt\n",
    "%matplotlib inline\n",
    "import scipy.io"
   ]
  },
  {
   "cell_type": "code",
   "execution_count": 2,
   "metadata": {
    "collapsed": true
   },
   "outputs": [],
   "source": [
    "def trajectories(kTRANS, kPL, params, Mzscale, Sscale, u): \n",
    "    # FUNCTION TRAJECTORIES computes trajectories of the model \n",
    "    \n",
    "    # unpack params \n",
    "    dt    = params[0]\n",
    "    N     = int(params[1])\n",
    "    R1L   = params[2]\n",
    "    R1P   = params[3]\n",
    "    P0    = params[4]\n",
    "    sigma = params[5]\n",
    "    \n",
    "    Ad = numpy.eye(2) + dt*numpy.array([[-kPL-R1P, 0],[kPL, -R1L]]) \n",
    "    \n",
    "    x = numpy.zeros((2, N+1))\n",
    "    x[0, 0] = P0\n",
    "    for t in range(N):\n",
    "        x[:, t+1] = numpy.dot(Ad, Mzscale[:, t]*x[:, t])  + dt*u[t]*numpy.array([kTRANS, 0])\n",
    "        \n",
    "    y = x[:, :-1]*Sscale\n",
    "    return x[:, :-1].T"
   ]
  },
  {
   "cell_type": "code",
   "execution_count": 3,
   "metadata": {
    "collapsed": false
   },
   "outputs": [
    {
     "name": "stdout",
     "output_type": "stream",
     "text": [
      "(32, 32, 25, 2)\n",
      "(32, 32, 25, 2)\n"
     ]
    }
   ],
   "source": [
    "# setup model parameters \n",
    "dt      = 2.0\n",
    "R1L     = 1.0/30.0\n",
    "R1P     = 1.0/30.0\n",
    "P0      = 0\n",
    "sigma   = 3000.0\n",
    "N       = 25\n",
    "params  = numpy.array([dt, N, R1L, R1P, P0, sigma])\n",
    "\n",
    "\n",
    "filename = 'kidney_dynamics_constant'\n",
    "matlab_data = scipy.io.loadmat(filename + '.mat')\n",
    "data = numpy.zeros((32, 32, 25, 2))\n",
    "data[:, :, :, 0] = matlab_data['pa']\n",
    "data[:, :, :, 1] = matlab_data['lac']\n",
    "# data = numpy.transpose(data, (0, 1, 3, 2, 4))\n",
    "\n",
    "flips = 15*numpy.ones((2, 25))\n",
    "print data.shape\n",
    "\n",
    "print data.shape\n",
    "\n",
    "Sscale = numpy.sin(numpy.pi/180*flips)\n",
    "Mzscale = numpy.cos(numpy.pi/180*flips)\n",
    "\n",
    "A0 = 100\n",
    "t0 = 0\n",
    "gamma = 2.14\n",
    "beta = 3.47\n",
    "t = numpy.linspace(0, N-1, N)\n",
    "u = A0*(t - t0)**gamma*numpy.exp(-(t-t0)/beta)\n",
    "\n",
    "\n",
    "def generate_simulated_data(kTRANS_map, kPL_map):\n",
    "    assert kTRANS_map.shape == kPL_map.shape\n",
    "    y = numpy.zeros(kTRANS_map.shape + (N, 2))\n",
    "    for j in range(kTRANS_map.shape[0]):\n",
    "        for k in range(kTRANS_map.shape[1]):\n",
    "            for l in range(kTRANS_map.shape[2]):\n",
    "                y[j, k, l, :, :] = trajectories(kTRANS_map[j, k, l], kPL_map[j, k, l], params, Mzscale, Sscale, u)\n",
    "    return y\n",
    "\n",
    "def compute_noise_standard_deviation(y, desired_lactate_SNR):\n",
    "    signal = numpy.amax(y[:, :, :, :, 1])\n",
    "    return signal/desired_lactate_SNR\n",
    "\n",
    "def add_noise(y, noise_standard_deviation):\n",
    "    return y + noise_standard_deviation*numpy.random.normal(0, 1, y.shape)\n",
    "\n",
    "def lactate_SNR(y, noise_standard_deviation):\n",
    "    signal = numpy.amax(y[:, :, :, :, 1])\n",
    "    return signal/noise_standard_deviation\n",
    "\n",
    "#desired_lactate_SNR = 2.0\n",
    "#y_sim_truth = generate_simulated_data(kTRANS_true, kPL_true)\n",
    "#noise_standard_deviation = compute_noise_standard_deviation(y_sim_truth, desired_lactate_SNR)\n",
    "#y_sim = add_noise(y_sim_truth, noise_standard_deviation)\n",
    "\n",
    "\n",
    "#print y_sim.shape \n",
    "\n",
    "#data = y_sim\n",
    "\n",
    "#print \"max lactate SNR =\", lactate_SNR(y_sim_truth, noise_standard_deviation)"
   ]
  },
  {
   "cell_type": "code",
   "execution_count": 4,
   "metadata": {
    "collapsed": false
   },
   "outputs": [
    {
     "data": {
      "image/png": "[encoded data removed]",
      "text/plain": [
       "<matplotlib.figure.Figure at 0x7f11bbc7d0d0>"
      ]
     },
     "metadata": {},
     "output_type": "display_data"
    }
   ],
   "source": [
    "# berkeley_blue = RGB((1/256*[ 45.,  99., 127.])...)\n",
    "# berkeley_gold = RGB((1/256*[224., 158.,  25.])...)\n",
    "\n",
    "berkeley_blue = \"#2D637F\"\n",
    "berkeley_gold = \"#E09E19\"\n",
    "\n",
    "plt.plot(dt*numpy.linspace(0, flips.shape[1], flips.shape[1]), flips[0, :], 'o', color=berkeley_blue)\n",
    "plt.plot(dt*numpy.linspace(0, flips.shape[1], flips.shape[1]), flips[1, :], 'o', color=berkeley_gold)\n",
    "plt.legend([\"pyruvate\", \"lactate\"])\n",
    "plt.xlabel(\"time (s)\")\n",
    "plt.ylabel(\"flip angle (degrees)\")\n",
    "# plt.savefig(\"T1_effective_flip_angles.pdf\")\n",
    "plt.show()"
   ]
  },
  {
   "cell_type": "code",
   "execution_count": 5,
   "metadata": {
    "collapsed": false
   },
   "outputs": [
    {
     "data": {
      "image/png": "[encoded data removed]",
      "text/plain": [
       "<matplotlib.figure.Figure at 0x7f11bbc7d190>"
      ]
     },
     "metadata": {},
     "output_type": "display_data"
    },
    {
     "data": {
      "image/png": "[encoded data removed]",
      "text/plain": [
       "<matplotlib.figure.Figure at 0x7f11b9844b50>"
      ]
     },
     "metadata": {},
     "output_type": "display_data"
    },
    {
     "data": {
      "image/png": "[encoded data removed]",
      "text/plain": [
       "<matplotlib.figure.Figure at 0x7f11b91e1e90>"
      ]
     },
     "metadata": {},
     "output_type": "display_data"
    },
    {
     "data": {
      "image/png": "[encoded data removed]",
      "text/plain": [
       "<matplotlib.figure.Figure at 0x7f11b9121650>"
      ]
     },
     "metadata": {},
     "output_type": "display_data"
    },
    {
     "data": {
      "image/png": "[encoded data removed]",
      "text/plain": [
       "<matplotlib.figure.Figure at 0x7f11b90d47d0>"
      ]
     },
     "metadata": {},
     "output_type": "display_data"
    }
   ],
   "source": [
    "\n",
    "# Sscale  = numpy.diag([numpy.sin(7*numpy.pi/180), numpy.sin(35*numpy.pi/180)]).dot(numpy.ones((2, N)))\n",
    "# Mzscale = numpy.diag([numpy.cos(7*numpy.pi/180), numpy.cos(35*numpy.pi/180)]).dot(numpy.ones((2, N)))\n",
    "\n",
    "# plot time series from a particular voxel \n",
    "plt.plot(dt*numpy.linspace(0, N, N), data[16, 10, :, 0], '-', linewidth=2, color=berkeley_blue)\n",
    "plt.plot(dt*numpy.linspace(0, N, N), data[16, 10, :, 1], '-', linewidth=2, color=berkeley_gold)\n",
    "plt.legend(('Pyruvate', 'Lactate'), loc='upper left')\n",
    "plt.xlabel('time (s)')\n",
    "plt.ylabel('signal (au)')\n",
    "plt.savefig('simulated_data_time_series.png', bbox_inches='tight')\n",
    "plt.show()\n",
    "# print(\"kTRANS =\", kTRANS_true[3, 3, 8], \"kPL =\", kPL_true[3, 3, 8])\n",
    "\n",
    "# plot Sscale (output scale factor) corresponding to flip angle sequence\n",
    "plt.plot(Sscale.T)\n",
    "plt.xlabel('image #')\n",
    "plt.ylabel('Output scale factor Sscale')\n",
    "plt.show()\n",
    "\n",
    "# plot Mzscale (state scale factor) corresponding to flip angle sequence\n",
    "plt.plot(Mzscale.T)\n",
    "plt.xlabel('image #')\n",
    "plt.ylabel('State scale factor Mzscale')\n",
    "plt.show()\n",
    "\n",
    "# plot pyruvate data at some time \n",
    "# plt.figure(figsize = (15,15))\n",
    "# for i in range(Nz):\n",
    "#     plt.subplot(4, 4, i+1)\n",
    "#     plt.imshow(data[:, :, i, -1, 0], cmap=\"gray\", vmin=0, vmax=1e3, interpolation=\"nearest\")\n",
    "#     #plt.xticks([])\n",
    "#     #plt.yticks([])\n",
    "#     plt.colorbar()\n",
    "#     plt.title(\"layer \" + str(i+1))\n",
    "# plt.savefig('pc_data_3D_pyruvate_images.png', bbox_inches='tight')\n",
    "# plt.show()\n",
    "\n",
    "# plot lactate data at some time \n",
    "# plt.figure(figsize = (15,15))\n",
    "# for i in range(Nz):\n",
    "#     plt.subplot(4, 4, i+1)\n",
    "#     plt.imshow(data[:, :, i, -1, 1], cmap=\"gray\", vmin=0, vmax=2e2, interpolation=\"nearest\")\n",
    "#    #plt.xticks([])\n",
    "#    #plt.yticks([])\n",
    "#    plt.colorbar()\n",
    "#    plt.title(\"layer \" + str(i+1))\n",
    "# plt.savefig('pc_data_3D_lactate_images.png', bbox_inches='tight')\n",
    "# plt.show()\n",
    "\n",
    "plt.imshow(data[:, :, -1, 1], cmap=\"gray\", vmin=0, vmax=3e2, interpolation=\"nearest\")\n",
    "#plt.xticks([])\n",
    "#plt.yticks([])\n",
    "plt.colorbar()\n",
    "plt.savefig('simulated_data_pyruvate_slice.png', bbox_inches='tight')\n",
    "plt.show()\n",
    "\n",
    "plt.imshow(data[:, :, -1, 0], cmap=\"gray\", vmin=0, vmax=1e3, interpolation=\"nearest\")\n",
    "plt.xticks([])\n",
    "plt.yticks([])\n",
    "plt.colorbar()\n",
    "plt.savefig('simulated_data_lactate_slice.png', bbox_inches='tight')\n",
    "plt.show()"
   ]
  },
  {
   "cell_type": "code",
   "execution_count": 6,
   "metadata": {
    "collapsed": false
   },
   "outputs": [
    {
     "data": {
      "image/png": "[encoded data removed]",
      "text/plain": [
       "<matplotlib.figure.Figure at 0x7f11b9280790>"
      ]
     },
     "metadata": {},
     "output_type": "display_data"
    },
    {
     "data": {
      "image/png": "[encoded data removed]",
      "text/plain": [
       "<matplotlib.figure.Figure at 0x7f11b931af50>"
      ]
     },
     "metadata": {},
     "output_type": "display_data"
    }
   ],
   "source": [
    "# result of temporal averaging (Area under the curve)\n",
    "\n",
    "# pyruvate\n",
    "plt.imshow(numpy.sum(data[:, :, :, 0], 2), cmap=\"gray\", vmin=0, vmax=1.5e5, interpolation=\"nearest\")\n",
    "plt.xticks([])\n",
    "plt.yticks([])\n",
    "plt.colorbar()\n",
    "plt.show()\n",
    "\n",
    "# lactate\n",
    "plt.imshow(numpy.sum(data[:, :, :, 1], 2), cmap=\"gray\", vmin=0, vmax=1e4, interpolation=\"nearest\")\n",
    "plt.xticks([])\n",
    "plt.yticks([])\n",
    "plt.colorbar()\n",
    "plt.show()"
   ]
  },
  {
   "cell_type": "code",
   "execution_count": 7,
   "metadata": {
    "collapsed": false
   },
   "outputs": [],
   "source": [
    "# Define functions for fitting model to data \n",
    "    \n",
    "def traj_1D(kPL, params, Mzscale, Sscale, y1):\n",
    "    \n",
    "    # y1 should be the (unscaled) output data from the pyruvate channel\n",
    "    \n",
    "    # unpack params \n",
    "    dt    = params[0]\n",
    "    N     = int(params[1])\n",
    "    R1L   = params[2]\n",
    "    R1P   = params[3]\n",
    "    P0    = params[4]\n",
    "    sigma = params[5]\n",
    "    \n",
    "    x1 = y1/Sscale[0, :]\n",
    "        \n",
    "    x2 = numpy.zeros(N) \n",
    "    for t in range(N-1):\n",
    "        x2[t+1] = (-(kPL*numpy.exp((- R1P - kPL)*dt) - kPL*numpy.exp(-R1L*dt))/(R1P - R1L + kPL))*Mzscale[0, t]*x1[t]  +  numpy.exp(-R1L*dt)*Mzscale[1, t]*x2[t]\n",
    "    return x2*Sscale[1, :]\n",
    "\n",
    "def maximum_likelihood_fit(data, params, Mzscale, Sscale, u): \n",
    "    # data represents times series from a particular voxel \n",
    "    \n",
    "    # unpack params \n",
    "    dt    = params[0]\n",
    "    N     = int(params[1])\n",
    "    R1L   = params[2]\n",
    "    R1P   = params[3]\n",
    "    P0    = params[4]\n",
    "    sigma = params[5]\n",
    "        \n",
    "    def func(theta, params, Y):\n",
    "        return (Y - trajectories(theta[0], theta[1], params, Mzscale, Sscale, u)).flatten()\n",
    "    \n",
    "    # res = optimization.curve_fit(func, xdata, ydata, x0, sigma)\n",
    "    x0  = numpy.array([0.05, 0.07])\n",
    "    res = optimization.leastsq(func, x0, args=(params, data))\n",
    "\n",
    "    return res[0]\n",
    "\n",
    "def assumptionless_fit(data, params, Mzscale, Sscale):\n",
    "    \n",
    "    assert(len(params) == 6)\n",
    "    \n",
    "    # unpack params \n",
    "    dt    = params[0]\n",
    "    N     = int(params[1])\n",
    "    R1L   = params[2]\n",
    "    R1P   = params[3]\n",
    "    P0    = params[4]\n",
    "    sigma = params[5]\n",
    "    \n",
    "    def func(theta, params, data):\n",
    "        return (data[:, 1] - traj_1D(theta, params, Mzscale, Sscale, data[:, 0]))\n",
    "    \n",
    "    theta0  = numpy.array([0.07])\n",
    "    res = optimization.leastsq(func, theta0, args=(params, data))\n",
    "\n",
    "    return res[0]"
   ]
  },
  {
   "cell_type": "code",
   "execution_count": 8,
   "metadata": {
    "collapsed": false
   },
   "outputs": [],
   "source": [
    "# loop assumptionless fit\n",
    "def loop_assumptionless_fit(data, params, Mzscale, Sscale):\n",
    "    kPL_fit_array = numpy.zeros(data.shape[0:2])\n",
    "    for i in range(data.shape[0]):\n",
    "        for j in range(data.shape[1]):\n",
    "                kPL_fit_array[i, j] = assumptionless_fit(data[i, j, :, :], params, Mzscale, Sscale)\n",
    "    return kPL_fit_array\n",
    "                \n",
    "# test this function \n",
    "kPL_fit = loop_assumptionless_fit(data, params, Mzscale, Sscale)"
   ]
  },
  {
   "cell_type": "code",
   "execution_count": 9,
   "metadata": {
    "collapsed": false
   },
   "outputs": [
    {
     "data": {
      "image/png": "[encoded data removed]",
      "text/plain": [
       "<matplotlib.figure.Figure at 0x7f11b9302ad0>"
      ]
     },
     "metadata": {},
     "output_type": "display_data"
    }
   ],
   "source": [
    "# plot results of independent voxel-wise fit \n",
    "\n",
    "plt.imshow(kPL_fit[:, :], cmap=\"gray\", vmin=0, vmax=1e-2, interpolation=\"nearest\")\n",
    "plt.xticks([])\n",
    "plt.yticks([])\n",
    "plt.colorbar()\n",
    "# plt.savefig('pc_data_3D_kPL_map_no_regularization.png', bbox_inches='tight')\n",
    "plt.show()"
   ]
  },
  {
   "cell_type": "code",
   "execution_count": 22,
   "metadata": {
    "collapsed": false
   },
   "outputs": [
    {
     "data": {
      "image/png": "[encoded data removed]",
      "text/plain": [
       "<matplotlib.figure.Figure at 0x7f11b8de0c90>"
      ]
     },
     "metadata": {},
     "output_type": "display_data"
    }
   ],
   "source": [
    "# plot results of independent voxel-wise fit masked based on perfusion threshold\n",
    "\n",
    "def compute_mask(data, threshold):\n",
    "    return (numpy.sum(numpy.abs(data[:, :, :, 0]), 2) > threshold)\n",
    "    \n",
    "mask = compute_mask(data, 2e4) # set threshold here \n",
    "\n",
    "plt.imshow(mask[:, :]*kPL_fit[:, :], cmap=\"gray\",  vmin=-3e-3, vmax=7e-3, interpolation=\"nearest\")\n",
    "plt.xticks([])\n",
    "plt.yticks([])\n",
    "plt.colorbar()\n",
    "\n",
    "plt.savefig('kidney_kPL_map_unconstrained_no_noise.png', bbox_inches='tight')\n",
    "plt.show()"
   ]
  },
  {
   "cell_type": "code",
   "execution_count": 11,
   "metadata": {
    "collapsed": false
   },
   "outputs": [
    {
     "name": "stdout",
     "output_type": "stream",
     "text": [
      "importing numpy on engine(s)\n",
      "importing scipy on engine(s)\n",
      "importing scipy.optimize on engine(s)\n"
     ]
    }
   ],
   "source": [
    "## ADMM / Douglas-Rachford algorithm for parameter mapping \n",
    "\n",
    "import prox_tv as ptv\n",
    "\n",
    "def theta_step_assumptionless(data, theta, z, u, rho, params, lambda2, Mzscale, Sscale): \n",
    "    \n",
    "    # unpack params \n",
    "    dt    = params[0]\n",
    "    N     = int(params[1])\n",
    "    R1L   = params[2]\n",
    "    R1P   = params[3]\n",
    "    P0    = params[4]\n",
    "    sigma = params[5]\n",
    "    \n",
    "    def func(theta, params, data):\n",
    "        return numpy.hstack((data[:, 1] - traj_1D(theta, params, Mzscale, Sscale, data[:, 0]) , sqrt(0.5*rho)*(theta - z + u), sqrt(lambda2)*theta))\n",
    "    \n",
    "    theta0  = numpy.array([0.07])\n",
    "    res = scipy.optimize.leastsq(func, theta0, args=(params, data))\n",
    "\n",
    "    return res[0]\n",
    "\n",
    "def theta_step_linear_least_squares(data, theta, z, u, rho, params): \n",
    "    # data represents times series from a particular voxel \n",
    "    \n",
    "    # unpack params \n",
    "    dt    = params[0]\n",
    "    N     = int(params[1])\n",
    "    R1L   = params[2]\n",
    "    R1P   = params[3]\n",
    "    P0    = params[4]\n",
    "    sigma = params[5]\n",
    "    \n",
    "    # extract relevant vectors \n",
    "    P_t      = data[:-1, 0]\n",
    "    L_t      = data[:-1, 1]\n",
    "    L_tplus1 = data[1:, 1]\n",
    "        \n",
    "    # set up A*theta = b \n",
    "    b = L_tplus1 - L_t + dt*R1L*L_t\n",
    "    A = dt*P_t \n",
    "            \n",
    "    # compute prox operator for 1/2 |A*theta - b|_2^2 \n",
    "    M = (1/rho)*numpy.dot(A, A.T) + 1.0\n",
    "    c = (1/rho)*numpy.dot(A, b.T) + z - u\n",
    "    return c/M\n",
    "\n",
    "def theta_step_maximum_likelihood(data, theta, z, u, rho, params, lambda2, Mzscale, Sscale, u0): \n",
    "    # data represents times series from a particular voxel \n",
    "    \n",
    "    # unpack params \n",
    "    dt    = params[0]\n",
    "    N     = int(params[1])\n",
    "    R1L   = params[2]\n",
    "    R1P   = params[3]\n",
    "    P0    = params[4]\n",
    "    sigma = params[5]\n",
    "    \n",
    "    def func(theta, params, Y, Mzscale, Sscale, u0):\n",
    "        return numpy.hstack(((Y - trajectories(theta[0], theta[1], params, Mzscale, Sscale, u0)).flatten(), sqrt(0.5*rho)*(theta[1]- z + u), sqrt(lambda2)*theta[1]))\n",
    "\n",
    "    x0  = numpy.array([0.05, 0.07])\n",
    "    res = scipy.optimize.leastsq(func, x0, args=(params, data, Mzscale, Sscale, u0))\n",
    "\n",
    "    return res[0][1]\n",
    "\n",
    "def z_step(theta, z, u, lambda1, rho):    \n",
    "    # return ptv.tv1_2d(rho/(2*lambda2 + rho)*(theta + u), lambda1/(lambda2 + 0.5*rho), n_threads=1)\n",
    "    # return ptv.tv1_2d(theta + u, lambda1/rho, n_threads=1)\n",
    "    return ptv.tvgen(theta + u, numpy.array([lambda1/rho, lambda1/rho]), [1, 2], numpy.array([1, 1]))\n",
    "\n",
    "def u_step(theta, z, u):  \n",
    "    return u + theta - z\n",
    "\n",
    "## Prepare and test parallel map function \n",
    "import ipyparallel as ipp\n",
    "c = ipp.Client()\n",
    "dview = c[:]\n",
    "\n",
    "with dview.sync_imports():\n",
    "    import numpy\n",
    "    import scipy\n",
    "    import scipy.optimize\n",
    "\n",
    "def pmap_ndarray(direct_view, f, *args):\n",
    "    \n",
    "    shape = args[0].shape\n",
    "    \n",
    "    # flatten arguments\n",
    "    flattened_args = []\n",
    "    for arg in args:\n",
    "        assert(arg.shape == shape) # check that all args are the same shape \n",
    "        flattened_args.append(arg.flatten())\n",
    "        \n",
    "    # apply map function \n",
    "    y = direct_view.map_sync(f, *flattened_args)\n",
    "    \n",
    "    # reshape result to match shape of args\n",
    "    return numpy.array(y).reshape(shape)"
   ]
  },
  {
   "cell_type": "code",
   "execution_count": 12,
   "metadata": {
    "collapsed": false
   },
   "outputs": [],
   "source": [
    "def ADMM_parallel_3D(data, lambda1, lambda2, rho, theta_est, z_est, u_est, method):\n",
    "    theta = theta_est*numpy.ones((numpy.shape(data)[0], numpy.shape(data)[1]))\n",
    "    z     =     z_est*numpy.ones((numpy.shape(data)[0], numpy.shape(data)[1]))\n",
    "    u     =     u_est*numpy.ones((numpy.shape(data)[0], numpy.shape(data)[1]))\n",
    "    \n",
    "    # convert data to mappable format\n",
    "    data_abstract = numpy.zeros(data.shape[0:2], dtype=numpy.ndarray)\n",
    "    for i in range(data.shape[0]):\n",
    "        for j in range(data.shape[1]):\n",
    "                data_abstract[i, j] = data[i, j, :, :]\n",
    "    \n",
    "    # iterate ADMM until convergence, or until we reach max_iter iterations \n",
    "    max_iters = 20\n",
    "    min_iters = 10\n",
    "    iterations = 0\n",
    "    epsilon = 1e-4\n",
    "    \n",
    "    # theta_step_vectorized = numpy.vectorize(lambda w, x, y, z: theta_step(w, x, y, z, rho, params))\n",
    "    u_step_vectorized = numpy.vectorize(u_step)\n",
    "    \n",
    "    # broadcast and load required packages, functions, variables \n",
    "    dview.push(dict(theta_step_linear_least_squares=theta_step_linear_least_squares, \n",
    "                    theta_step_maximum_likelihood=theta_step_maximum_likelihood,\n",
    "                    theta_step_assumptionless=theta_step_assumptionless,\n",
    "                    Mzscale=Mzscale,\n",
    "                    Sscale=Sscale,\n",
    "                    trajectories=trajectories,\n",
    "                    traj_1D=traj_1D,\n",
    "                    sqrt=sqrt,\n",
    "                    params=params))\n",
    "    \n",
    "    while (iterations < min_iters): \n",
    "        if (method == \"linear-least-squares\"):\n",
    "            theta = pmap_ndarray(dview, lambda w, x, y, z: theta_step_linear_least_squares(w, x, y, z, rho, params, lambda2), data_abstract, theta, z, u)\n",
    "        elif (method == \"maximum-likelihood\"):\n",
    "            theta = pmap_ndarray(dview, lambda w, x, y, z: theta_step_maximum_likelihood(w, x, y, z, rho, params, lambda2, Mzscale, Sscale, u0), data_abstract, theta, z, u)\n",
    "        elif (method == \"assumption-less\"):\n",
    "            theta = pmap_ndarray(dview, lambda w, x, y, z: theta_step_assumptionless(w, x, y, z, rho, params, lambda2, Mzscale, Sscale), data_abstract, theta, z, u)\n",
    "        else:\n",
    "            raise ValueError(\"estimation method '%s' is not defined\"%method)\n",
    "        z     = z_step(theta, z, u, lambda1, rho)\n",
    "        u     = u_step_vectorized(theta, z, u) # this can be parallelized too if we want, but it's fast\n",
    "        iterations += 1\n",
    "    \n",
    "    while ((iterations < max_iters) and (numpy.linalg.norm(theta - z) > epsilon)):\n",
    "        if (method == \"linear-least-squares\"):\n",
    "            theta = pmap_ndarray(dview, lambda w, x, y, z: theta_step_linear_least_squares(w, x, y, z, rho, params, lambda2), data_abstract, theta, z, u)\n",
    "        elif (method == \"maximum-likelihood\"):\n",
    "            theta = pmap_ndarray(dview, lambda w, x, y, z: theta_step_maximum_likelihood(w, x, y, z, rho, params, lambda2, Mzscale, Sscale, u0), data_abstract, theta, z, u)\n",
    "        elif (method == \"assumption-less\"):\n",
    "            theta = pmap_ndarray(dview, lambda w, x, y, z: theta_step_assumptionless(w, x, y, z, rho, params, lambda2, Mzscale, Sscale), data_abstract, theta, z, u)\n",
    "        else:\n",
    "            raise ValueError(\"estimation method '%s' is not defined\"%method)\n",
    "        z     = z_step(theta, z, u, lambda1, rho)\n",
    "        u     = u_step_vectorized(theta, z, u) # this can be parallelized too if we want, but it's fast\n",
    "        iterations += 1\n",
    "\n",
    "    print \"iterations = \", iterations\n",
    "    \n",
    "    return theta"
   ]
  },
  {
   "cell_type": "code",
   "execution_count": 13,
   "metadata": {
    "collapsed": false
   },
   "outputs": [
    {
     "name": "stdout",
     "output_type": "stream",
     "text": [
      "iterations =  20\n"
     ]
    }
   ],
   "source": [
    "TV_regularization = 10e06\n",
    "l2_regularization = 1e10\n",
    "rho = 1e10\n",
    "kPL_map = ADMM_parallel_3D(data, TV_regularization, l2_regularization, rho, 0.0, 0.0, 0.0, \"assumption-less\")"
   ]
  },
  {
   "cell_type": "code",
   "execution_count": 23,
   "metadata": {
    "collapsed": false
   },
   "outputs": [
    {
     "data": {
      "image/png": "[encoded data removed]",
      "text/plain": [
       "<matplotlib.figure.Figure at 0x7f11b7346390>"
      ]
     },
     "metadata": {},
     "output_type": "display_data"
    }
   ],
   "source": [
    "# plot slices of 3D parameter map \n",
    "\n",
    "\n",
    "plt.imshow(kPL_map[:, :], cmap=\"gray\", vmin=-3e-3, vmax=7e-3, interpolation=\"nearest\")\n",
    "plt.xticks([])\n",
    "plt.yticks([])\n",
    "plt.colorbar()\n",
    "plt.savefig('kidney_kPL_map_constrained_no_noise.png', bbox_inches='tight')\n",
    "plt.show()"
   ]
  },
  {
   "cell_type": "code",
   "execution_count": 15,
   "metadata": {
    "collapsed": true
   },
   "outputs": [],
   "source": [
    "def add_noise(data, desired_lactate_SNR):\n",
    "    M = numpy.amax(data[:, :, :, 1])\n",
    "    # print M/desired_lactate_SNR\n",
    "    return data + M/desired_lactate_SNR*numpy.random.randn(*data.shape)\n",
    "    \n",
    "def artificial_noise_experiment(data, SNR_vals):\n",
    "    kPL_map_constrained = numpy.zeros(data.shape[:2] + (len(SNR_vals),))\n",
    "    kPL_map_unconstrained = numpy.zeros(data.shape[:2] + (len(SNR_vals),))\n",
    "    for k, SNR in enumerate(SNR_vals):\n",
    "        artificial_data = add_noise(data, SNR)\n",
    "        kPL_map_constrained[:, :, k] = ADMM_parallel_3D(artificial_data, TV_regularization, l2_regularization, rho, 0.0, 0.0, 0.0, \"assumption-less\")\n",
    "        kPL_map_unconstrained[:, :, k] = compute_mask(artificial_data, 2e4)*loop_assumptionless_fit(artificial_data, params, Mzscale, Sscale)\n",
    "    return kPL_map_constrained, kPL_map_unconstrained"
   ]
  },
  {
   "cell_type": "code",
   "execution_count": 16,
   "metadata": {
    "collapsed": false
   },
   "outputs": [
    {
     "name": "stdout",
     "output_type": "stream",
     "text": [
      "iterations =  20\n",
      "iterations =  20\n",
      "iterations =  20\n",
      "iterations =  20\n"
     ]
    }
   ],
   "source": [
    "SNR_vals = [8.0, 4.0, 2.0, 1.0]\n",
    "kPL_map_constrained, kPL_map_unconstrained = artificial_noise_experiment(data, SNR_vals)"
   ]
  },
  {
   "cell_type": "code",
   "execution_count": 17,
   "metadata": {
    "collapsed": false
   },
   "outputs": [
    {
     "data": {
      "image/png": "[encoded data removed]",
      "text/plain": [
       "<matplotlib.figure.Figure at 0x7f11b8e9a550>"
      ]
     },
     "metadata": {},
     "output_type": "display_data"
    },
    {
     "data": {
      "image/png": "[encoded data removed]",
      "text/plain": [
       "<matplotlib.figure.Figure at 0x7f11b92574d0>"
      ]
     },
     "metadata": {},
     "output_type": "display_data"
    },
    {
     "data": {
      "image/png": "[encoded data removed]",
      "text/plain": [
       "<matplotlib.figure.Figure at 0x7f11b9186950>"
      ]
     },
     "metadata": {},
     "output_type": "display_data"
    },
    {
     "data": {
      "image/png": "[encoded data removed]",
      "text/plain": [
       "<matplotlib.figure.Figure at 0x7f11b8d58a90>"
      ]
     },
     "metadata": {},
     "output_type": "display_data"
    },
    {
     "data": {
      "image/png": "[encoded data removed]",
      "text/plain": [
       "<matplotlib.figure.Figure at 0x7f11b8d37750>"
      ]
     },
     "metadata": {},
     "output_type": "display_data"
    },
    {
     "data": {
      "image/png": "[encoded data removed]",
      "text/plain": [
       "<matplotlib.figure.Figure at 0x7f11b8d6d750>"
      ]
     },
     "metadata": {},
     "output_type": "display_data"
    },
    {
     "data": {
      "image/png": "[encoded data removed]",
      "text/plain": [
       "<matplotlib.figure.Figure at 0x7f11b8cbca50>"
      ]
     },
     "metadata": {},
     "output_type": "display_data"
    },
    {
     "data": {
      "image/png": "[encoded data removed]",
      "text/plain": [
       "<matplotlib.figure.Figure at 0x7f11b9093790>"
      ]
     },
     "metadata": {},
     "output_type": "display_data"
    }
   ],
   "source": [
    "for k in range(kPL_map_constrained.shape[2]):\n",
    "    plt.imshow(kPL_map_constrained[:, :, k], cmap=\"gray\", vmin=-3e-3, vmax=7e-3, interpolation=\"nearest\")\n",
    "    plt.xticks([])\n",
    "    plt.yticks([])\n",
    "    # plt.colorbar()\n",
    "    # plt.title(\"max lactate SNR = %i\" %SNR_vals[k])\n",
    "    plt.savefig('kidney_kPL_map_constrained_SNR_%i.png'%SNR_vals[k], bbox_inches='tight')\n",
    "    plt.show()\n",
    "    \n",
    "    plt.imshow(kPL_map_unconstrained[:, :, k], cmap=\"gray\", vmin=-3e-3, vmax=7e-3, interpolation=\"nearest\")\n",
    "    plt.xticks([])\n",
    "    plt.yticks([])\n",
    "    # plt.colorbar()\n",
    "    # plt.title(\"max lactate SNR = %i\" %SNR_vals[k])\n",
    "    plt.savefig('kidney_kPL_map_unconstrained_SNR_%i.png'%SNR_vals[k], bbox_inches='tight')\n",
    "    plt.show()"
   ]
  },
  {
   "cell_type": "code",
   "execution_count": null,
   "metadata": {
    "collapsed": true
   },
   "outputs": [],
   "source": []
  }
 ],
 "metadata": {
  "kernelspec": {
   "display_name": "Python 2",
   "language": "python",
   "name": "python2"
  },
  "language_info": {
   "codemirror_mode": {
    "name": "ipython",
    "version": 2
   },
   "file_extension": ".py",
   "mimetype": "text/x-python",
   "name": "python",
   "nbconvert_exporter": "python",
   "pygments_lexer": "ipython2",
   "version": "2.7.12"
  }
 },
 "nbformat": 4,
 "nbformat_minor": 0
}
