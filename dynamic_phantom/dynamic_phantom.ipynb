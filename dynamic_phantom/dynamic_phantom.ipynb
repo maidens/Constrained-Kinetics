{
 "cells": [
  {
   "cell_type": "code",
   "execution_count": 1,
   "metadata": {
    "collapsed": false
   },
   "outputs": [],
   "source": [
    "import numpy\n",
    "import matplotlib.pyplot as plt\n",
    "%matplotlib inline\n",
    "\n",
    "def sphere(x, y, z, radius, x0, y0, z0):\n",
    "    return 1.0*((x-x0)**2 + (y-y0)**2 + (z-z0)**2 < (radius)**2)\n",
    "\n",
    "def rectangle(x, y, z, Lx, Ly, Lz, x0, y0, z0):\n",
    "    return ((numpy.abs(x-x0)<Lx/2*numpy.ones(x.shape))*(numpy.abs(y-y0)<Ly/2*numpy.ones(y.shape)) * (numpy.abs(y-y0)<Ly/2*numpy.ones(z.shape)))\n",
    "\n",
    "def dynamic_phantom(nx, ny, nz, kTRANS_low, kTRANS_high, kPL_low, kPL_high):\n",
    "    x = numpy.linspace(-1, 1, nx)\n",
    "    y = numpy.linspace(-1, 1, ny)\n",
    "    z = numpy.linspace(-1, 1, nz)\n",
    "    \n",
    "    X, Y, Z = numpy.meshgrid(x, y, z)\n",
    "    \n",
    "    kTRANS = numpy.zeros(X.shape)\n",
    "    kTRANS += kTRANS_low*rectangle(X, Y, Z, 0.8, 1.6, 1.6, 0.4, 0, 0)\n",
    "    kTRANS += kTRANS_high*rectangle(X, Y, Z, 0.8, 1.6, 1.6, -0.4, 0, 0)\n",
    "    \n",
    "    kPL = numpy.zeros(X.shape)\n",
    "    kPL += kPL_low*sphere(X, Y, Z, 0.35, 0.45, 0.45, 0) + (kPL_high - kPL_low)*sphere(X, Y, Z, 0.10, 0.45, 0.45, 0)\n",
    "    kPL += kPL_low*sphere(X, Y, Z, 0.35, -0.45, 0.45, 0) + (kPL_high - kPL_low)*sphere(X, Y, Z, 0.10, -0.45, 0.45, 0)\n",
    "    kPL += kPL_high*sphere(X, Y, Z, 0.35, 0.45, -0.45, 0) + (kPL_low - kPL_high)*sphere(X, Y, Z, 0.10, 0.45, -0.45, 0)\n",
    "    kPL += kPL_high*sphere(X, Y, Z, 0.35, -0.45, -0.45, 0) + (kPL_low - kPL_high)*sphere(X, Y, Z, 0.10, -0.45, -0.45, 0)    \n",
    "    \n",
    "    return kTRANS, kPL\n",
    "    "
   ]
  },
  {
   "cell_type": "code",
   "execution_count": 2,
   "metadata": {
    "collapsed": false
   },
   "outputs": [],
   "source": [
    "kTRANS, kPL = dynamic_phantom(256, 256, 256, 0.02, 0.05, 0.01, 0.03)"
   ]
  },
  {
   "cell_type": "code",
   "execution_count": 3,
   "metadata": {
    "collapsed": false
   },
   "outputs": [
    {
     "data": {
      "image/png": "[encoded data removed]",
      "text/plain": [
       "<matplotlib.figure.Figure at 0x110de5890>"
      ]
     },
     "metadata": {},
     "output_type": "display_data"
    },
    {
     "data": {
      "image/png": "[encoded data removed]",
      "text/plain": [
       "<matplotlib.figure.Figure at 0x112229310>"
      ]
     },
     "metadata": {},
     "output_type": "display_data"
    }
   ],
   "source": [
    "plt.imshow(kTRANS[:, :,128].T, cmap=\"gray\", vmin=0, vmax=6e-2, interpolation=\"none\")\n",
    "plt.xticks([])\n",
    "plt.yticks([])\n",
    "plt.title(\"kTRANS map\")\n",
    "plt.colorbar()\n",
    "plt.savefig('kTRANS_phantom_256.png')\n",
    "plt.show()\n",
    "\n",
    "plt.imshow(kPL[:, :,128].T, cmap=\"gray\", vmin=0, vmax=6e-2, interpolation=\"none\")\n",
    "plt.xticks([])\n",
    "plt.yticks([])\n",
    "plt.title(\"kPL map\")\n",
    "plt.colorbar()\n",
    "plt.savefig('kPL_phantom_256.png')\n",
    "plt.show()"
   ]
  },
  {
   "cell_type": "code",
   "execution_count": 4,
   "metadata": {
    "collapsed": true
   },
   "outputs": [],
   "source": [
    "kTRANS, kPL = dynamic_phantom(16, 16, 16, 0.02, 0.05, 0.01, 0.03)"
   ]
  },
  {
   "cell_type": "code",
   "execution_count": 5,
   "metadata": {
    "collapsed": false
   },
   "outputs": [
    {
     "data": {
      "image/png": "[encoded data removed]",
      "text/plain": [
       "<matplotlib.figure.Figure at 0x112859990>"
      ]
     },
     "metadata": {},
     "output_type": "display_data"
    },
    {
     "data": {
      "image/png": "[encoded data removed]",
      "text/plain": [
       "<matplotlib.figure.Figure at 0x110ddc1d0>"
      ]
     },
     "metadata": {},
     "output_type": "display_data"
    }
   ],
   "source": [
    "plt.imshow(kTRANS[:, :,8].T, cmap=\"gray\", vmin=0, vmax=6e-2, interpolation=\"none\")\n",
    "plt.xticks([])\n",
    "plt.yticks([])\n",
    "plt.title(\"kTRANS map\")\n",
    "plt.colorbar()\n",
    "plt.savefig('kTRANS_phantom_16.png')\n",
    "plt.show()\n",
    "\n",
    "plt.imshow(kPL[:, :,8].T, cmap=\"gray\", vmin=0, vmax=6e-2, interpolation=\"none\")\n",
    "plt.xticks([])\n",
    "plt.yticks([])\n",
    "plt.title(\"kPL map\")\n",
    "plt.colorbar()\n",
    "plt.savefig('kPL_phantom_16.png')\n",
    "plt.show()"
   ]
  },
  {
   "cell_type": "code",
   "execution_count": null,
   "metadata": {
    "collapsed": true
   },
   "outputs": [],
   "source": []
  }
 ],
 "metadata": {
  "kernelspec": {
   "display_name": "Python 2",
   "language": "python",
   "name": "python2"
  },
  "language_info": {
   "codemirror_mode": {
    "name": "ipython",
    "version": 2
   },
   "file_extension": ".py",
   "mimetype": "text/x-python",
   "name": "python",
   "nbconvert_exporter": "python",
   "pygments_lexer": "ipython2",
   "version": "2.7.13"
  }
 },
 "nbformat": 4,
 "nbformat_minor": 0
}
